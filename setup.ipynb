{
 "cells": [
  {
   "cell_type": "markdown",
   "metadata": {
    "pycharm": {}
   },
   "source": [
    "# Setup\n",
    "\n",
    "This notebook will work you through to setup [AKS (Azure Kubernetes Service)](https://azure.microsoft.com/en-us/services/kubernetes-service/) and [Kubeflow](https://www.kubeflow.org/).\n"
   ]
  },
  {
   "cell_type": "markdown",
   "metadata": {
    "pycharm": {
     "name": "#%% md\n"
    }
   },
   "source": [
    "## 0. Prerequisites\n",
    "\n",
    "* Docker (if you create your own docker image) - To install, see [docker site](https://docs.docker.com/install/).\n",
    "* Azure CLI - The easiest way is to use [Azure DSVM](https://azure.microsoft.com/en-us/services/virtual-machines/data-science-virtual-machines/) or [Azure cloud shell](https://azure.microsoft.com/en-us/features/cloud-shell/), where Azure CLI is installed by default."
   ]
  },
  {
   "cell_type": "markdown",
   "metadata": {
    "pycharm": {}
   },
   "source": [
    "## 1. Kubernetes Setup\n",
    "\n",
    "#### 1.1 Create AKS cluster\n",
    "First, make sure you signed in to use Azure CLI with a correct subscription."
   ]
  },
  {
   "cell_type": "code",
   "execution_count": null,
   "metadata": {
    "pycharm": {
     "metadata": false,
     "name": "#%%\n"
    }
   },
   "outputs": [],
   "source": [
    "!az login"
   ]
  },
  {
   "cell_type": "code",
   "execution_count": null,
   "metadata": {
    "pycharm": {}
   },
   "outputs": [],
   "source": [
    "!az account show"
   ]
  },
  {
   "cell_type": "markdown",
   "metadata": {
    "pycharm": {}
   },
   "source": [
    "```\n",
    "{\n",
    "  \"environmentName\": \"AzureCloud\",\n",
    "  \"id\": \"...\",\n",
    "  \"isDefault\": true,\n",
    "  \"name\": \"YOUR-SUBSCRIPTION-NAME\",  # Make sure if this is your subscription \n",
    "  \"state\": \"Enabled\",\n",
    "  \"tenantId\": \"...\",\n",
    "  \"user\": {\n",
    "    \"name\": \"...\",\n",
    "    \"type\": \"user\"\n",
    "  }\n",
    "}\n",
    "```"
   ]
  },
  {
   "cell_type": "markdown",
   "metadata": {
    "pycharm": {}
   },
   "source": [
    "If not, you can change the default subscription by running:"
   ]
  },
  {
   "cell_type": "code",
   "execution_count": null,
   "metadata": {
    "pycharm": {}
   },
   "outputs": [],
   "source": [
    "!az account set --subscription <YOUR-SUBSCRIPTION-NAME-OR-ID>"
   ]
  },
  {
   "cell_type": "markdown",
   "metadata": {
    "pycharm": {}
   },
   "source": [
    "Run following command to create a resource group and AKS cluster.\n",
    "This example will create four `Standard_NC6` (GPU VM) nodes for the cluster."
   ]
  },
  {
   "cell_type": "code",
   "execution_count": null,
   "metadata": {
    "pycharm": {}
   },
   "outputs": [],
   "source": [
    "RG_NAME = \"<YOUR-RESOURCE-GROUP-NAME>\"\n",
    "AKS_NAME = \"<RESOURCE-NAME>\"\n",
    "LOCATION = \"<RESOURCE-REGION>\""
   ]
  },
  {
   "cell_type": "code",
   "execution_count": null,
   "metadata": {
    "pycharm": {}
   },
   "outputs": [],
   "source": [
    "# Create resource group\n",
    "!az group create --name {RG_NAME} --location {LOCATION}\n",
    "\n",
    "# Create AKS cluster\n",
    "!az aks create \\\n",
    "    --resource-group {RG_NAME} \\\n",
    "    --name {AKS_NAME} \\\n",
    "    --node-count 4 \\\n",
    "    --node-vm-size Standard_NC6 \\\n",
    "    --enable-addons monitoring \\\n",
    "    --generate-ssh-keys"
   ]
  },
  {
   "cell_type": "markdown",
   "metadata": {
    "pycharm": {}
   },
   "source": [
    "Note, creating AKS cluster may take few minutes. If the creation is successful, you'll see something like:\n",
    "```\n",
    "{\n",
    "  \"id\": \"/subscriptions/.../resourceGroups/<YOUR-RESOURCE-GROUP-NAME>\",\n",
    "  \"location\": <RESOURCE-REGION>,\n",
    "  \"managedBy\": null,\n",
    "  \"name\": \"<YOUR-RESOURCE-GROUP-NAME>\",\n",
    "  \"properties\": {\n",
    "    \"provisioningState\": \"Succeeded\"\n",
    "  },\n",
    "  \"tags\": null,\n",
    "  \"type\": null\n",
    "}\n",
    "{\n",
    "  \"aadProfile\": null,\n",
    "  \"addonProfiles\": {\n",
    "    ...\n",
    "    \n",
    "}\n",
    "```\n",
    "\n",
    "If you get credential error, try\n",
    "1. Create a new SP:\n",
    "\n",
    "  `az ad sp create-for-rbac --skip-assignment`\n",
    "\n",
    "2. Create AKS cluster by providing credentials created above:\n",
    "\n",
    "  `az aks create ... --service-principal <AppID> --client-secret <Pwd>` "
   ]
  },
  {
   "cell_type": "markdown",
   "metadata": {
    "pycharm": {}
   },
   "source": [
    "#### 1.2 Setup Kubernetes CLI: kubectl\n",
    "\n",
    "If you don't have `kubectl`, run following command to install it:"
   ]
  },
  {
   "cell_type": "code",
   "execution_count": null,
   "metadata": {
    "pycharm": {}
   },
   "outputs": [],
   "source": [
    "!sudo az aks install-cli"
   ]
  },
  {
   "cell_type": "markdown",
   "metadata": {
    "pycharm": {}
   },
   "source": [
    "To configure `kubectl`, get the credential by running:"
   ]
  },
  {
   "cell_type": "code",
   "execution_count": null,
   "metadata": {
    "pycharm": {}
   },
   "outputs": [],
   "source": [
    "!az aks get-credentials --resource-group {RG_NAME} --name {AKS_NAME}"
   ]
  },
  {
   "cell_type": "markdown",
   "metadata": {
    "pycharm": {}
   },
   "source": [
    "To verify connection, run:"
   ]
  },
  {
   "cell_type": "code",
   "execution_count": null,
   "metadata": {
    "pycharm": {}
   },
   "outputs": [],
   "source": [
    "!kubectl get nodes "
   ]
  },
  {
   "cell_type": "markdown",
   "metadata": {
    "pycharm": {}
   },
   "source": [
    "If connection is success, you can see something like:\n",
    "\n",
    "```\n",
    "NAME                       STATUS    ROLES     AGE       VERSION\n",
    "aks-nodepool1-17965807-0   Ready     agent     11m       v1.12.7\n",
    "aks-nodepool1-17965807-1   Ready     agent     11m       v1.12.7\n",
    "aks-nodepool1-17965807-2   Ready     agent     11m       v1.12.7\n",
    "aks-nodepool1-17965807-3   Ready     agent     11m       v1.12.7\n",
    "```"
   ]
  },
  {
   "cell_type": "markdown",
   "metadata": {
    "pycharm": {}
   },
   "source": [
    "To change to different cluster, you may use:\n",
    "```\n",
    "# display list of contexts\n",
    "kubectl config get-contexts\n",
    "# display the current-context\n",
    "kubectl config current-context\n",
    "# change contexts\n",
    "kubectl config use-context my-cluster-name \n",
    "```"
   ]
  },
  {
   "cell_type": "markdown",
   "metadata": {
    "pycharm": {
     "metadata": false,
     "name": "#%% md\n"
    }
   },
   "source": [
    "#### 1.3 Setup Kubernetes Dashboard\n",
    "\n",
    "Via [Kubernetes Dashboard UI](https://kubernetes.io/docs/tasks/access-application-cluster/web-ui-dashboard/),\n",
    "you can deploy containerized applications as well as see workloads, services, storage, and logs.\n",
    "\n",
    "1. To open the dashboard:\n",
    "If your AKS cluster uses **RBAC**<sup>a</sup>, a `ClusterRoleBinding` must be created before you can correctly [access the dashboard](https://docs.microsoft.com/en-us/azure/aks/kubernetes-dashboard).\n",
    "\n",
    "```\n",
    "!kubectl create clusterrolebinding kubernetes-dashboard --clusterrole=cluster-admin --serviceaccount=kube-system:kubernetes-dashboard\n",
    "```\n",
    "\n",
    "2. To browse the dashboard:\n",
    "\n",
    "```\n",
    "az aks browse --resource-group ${RG_NAME} --name ${AKS_NAME}\n",
    "```\n",
    "\n",
    "The dashboard will be started from your browser. Or you can open it from http://127.0.0.1:8001/.\n",
    "If you are using VM, make sure the port is being forwarded to your local machine.\n",
    " \n",
    "<sub>\n",
    "a. To check if your AKS cluster uses RBAC, goto https://resources.azure.com/\n",
    "and see if \"'enableRBAC': true\" from your AKS.\n",
    "</sub>"
   ]
  },
  {
   "cell_type": "markdown",
   "metadata": {
    "pycharm": {}
   },
   "source": [
    "#### 1.4 Install NVIDIA device plugin\n",
    "> For **AKS Engine**, NVIDIA device plugin will automatically installed with N-Series GPU clusters.\n",
    "\n",
    "For **AKS**, install NVIDIA device plugin as follows:"
   ]
  },
  {
   "cell_type": "code",
   "execution_count": null,
   "metadata": {
    "pycharm": {
     "metadata": false,
     "name": "#%%\n"
    }
   },
   "outputs": [],
   "source": [
    "# For Kubernetes 1.10:\n",
    "# kubectl apply -f https://raw.githubusercontent.com/nvidia/k8s-device-plugin/v1.10/nvidia-device-plugin.yml\n",
    "    \n",
    "# For Kubernetes 1.11 and above:\n",
    "!kubectl apply -f https://raw.githubusercontent.com/nvidia/k8s-device-plugin/v1.11/nvidia-device-plugin.yml"
   ]
  },
  {
   "cell_type": "markdown",
   "metadata": {
    "pycharm": {}
   },
   "source": [
    "## 2. Kubeflow Setup\n",
    "**Kubeflow** is dedicated to making deployments of machine learning (ML) workflows\n",
    "on Kubernetes simple, portable and scalable. More details can be found from https://www.kubeflow.org."
   ]
  },
  {
   "cell_type": "markdown",
   "metadata": {
    "pycharm": {}
   },
   "source": [
    "#### 2.1 Install ksonnet\n",
    "Kubeflow makes use of ksonnet to help manage deployments. For more details, see [kubeflow doc](https://www.kubeflow.org/docs/components/ksonnet/).\n",
    "\n",
    "First, download file by running:"
   ]
  },
  {
   "cell_type": "code",
   "execution_count": null,
   "metadata": {
    "pycharm": {}
   },
   "outputs": [],
   "source": [
    "import os\n",
    "\n",
    "os.environ[\"KS_VER\"] = \"0.13.1\"\n",
    "os.environ[\"KS_PKG\"] = \"ks_{}_linux_amd64\".format(os.environ[\"KS_VER\"])\n",
    "os.environ[\"PATH\"] = \"{0}:{1}/bin/{2}\".format(\n",
    "    os.environ[\"PATH\"],\n",
    "    os.environ[\"HOME\"],\n",
    "    os.environ[\"KS_PKG\"]\n",
    ")"
   ]
  },
  {
   "cell_type": "code",
   "execution_count": null,
   "metadata": {
    "pycharm": {}
   },
   "outputs": [],
   "source": [
    "%%bash\n",
    "\n",
    "wget -O /tmp/${KS_PKG}.tar.gz https://github.com/ksonnet/ksonnet/releases/download/v${KS_VER}/${KS_PKG}.tar.gz\n",
    "mkdir -p ${HOME}/bin\n",
    "tar -xvf /tmp/$KS_PKG.tar.gz -C ${HOME}/bin"
   ]
  },
  {
   "cell_type": "markdown",
   "metadata": {
    "pycharm": {}
   },
   "source": [
    "#### 2.2 Install Kubeflow\n",
    "\n",
    "To download Kubeflow v0.4.1,"
   ]
  },
  {
   "cell_type": "code",
   "execution_count": null,
   "metadata": {
    "pycharm": {}
   },
   "outputs": [],
   "source": [
    "os.environ['KUBEFLOW_SRC'] = os.path.realpath(\"kfsrc\")  # path to download kubeflow source\n",
    "os.environ['KUBEFLOW_APP'] = \"kfapp\"  # kubeflow app name"
   ]
  },
  {
   "cell_type": "code",
   "execution_count": null,
   "metadata": {
    "pycharm": {}
   },
   "outputs": [],
   "source": [
    "%%bash\n",
    "\n",
    "mkdir ${KUBEFLOW_SRC}\n",
    "cd ${KUBEFLOW_SRC}\n",
    "\n",
    "curl https://raw.githubusercontent.com/kubeflow/kubeflow/v0.4.1/scripts/download.sh | bash"
   ]
  },
  {
   "cell_type": "markdown",
   "metadata": {
    "pycharm": {}
   },
   "source": [
    "Then, initialize a kubeflow app and deploy by running:"
   ]
  },
  {
   "cell_type": "code",
   "execution_count": null,
   "metadata": {
    "pycharm": {}
   },
   "outputs": [],
   "source": [
    "%%bash \n",
    "\n",
    "${KUBEFLOW_SRC}/scripts/kfctl.sh init ${KUBEFLOW_APP} --platform none\n",
    "\n",
    "cd ${KUBEFLOW_APP}\n",
    "${KUBEFLOW_SRC}/scripts/kfctl.sh generate k8s\n",
    "${KUBEFLOW_SRC}/scripts/kfctl.sh apply k8s"
   ]
  },
  {
   "cell_type": "markdown",
   "metadata": {
    "pycharm": {}
   },
   "source": [
    "To confirm the deployment,"
   ]
  },
  {
   "cell_type": "code",
   "execution_count": null,
   "metadata": {
    "pycharm": {}
   },
   "outputs": [],
   "source": [
    "!kubectl get pods -n kubeflow"
   ]
  },
  {
   "cell_type": "markdown",
   "metadata": {
    "pycharm": {}
   },
   "source": [
    "To change the current namespace to `kubeflow`,"
   ]
  },
  {
   "cell_type": "code",
   "execution_count": null,
   "metadata": {
    "pycharm": {}
   },
   "outputs": [],
   "source": [
    "!kubectl config set-context {AKS_NAME} --namespace=kubeflow"
   ]
  },
  {
   "cell_type": "markdown",
   "metadata": {
    "pycharm": {}
   },
   "source": [
    "## 3. Storage Setup\n",
    "\n",
    "A PersistentVolumeClaim (PVC) is a request for storage by a user. For details, see [persistent volumes with Azure files](https://docs.microsoft.com/en-us/azure/aks/azure-files-dynamic-pv)."
   ]
  },
  {
   "cell_type": "markdown",
   "metadata": {
    "pycharm": {}
   },
   "source": [
    "Set Azurefile storage class and deploy"
   ]
  },
  {
   "cell_type": "code",
   "execution_count": null,
   "metadata": {
    "pycharm": {}
   },
   "outputs": [],
   "source": [
    "!kubectl apply -f azure-file-sc.yaml\n",
    "!kubectl apply -f azure-pvc-roles.yaml"
   ]
  },
  {
   "cell_type": "code",
   "execution_count": null,
   "metadata": {
    "pycharm": {}
   },
   "outputs": [],
   "source": [
    "# To create PVC\n",
    "!kubectl apply -f azure-file-pvc.yaml"
   ]
  },
  {
   "cell_type": "code",
   "execution_count": null,
   "metadata": {
    "pycharm": {}
   },
   "outputs": [],
   "source": [
    "# To verify\n",
    "!kubectl get pvc azurefile"
   ]
  },
  {
   "cell_type": "markdown",
   "metadata": {
    "pycharm": {}
   },
   "source": [
    "\n",
    "## Further readings \n",
    "* [Azure Kubeflow labs github repo](https://github.com/Azure/kubeflow-labs)\n"
   ]
  },
  {
   "cell_type": "code",
   "execution_count": null,
   "metadata": {
    "pycharm": {}
   },
   "outputs": [],
   "source": []
  }
 ],
 "metadata": {
  "kernelspec": {
   "display_name": "Python 3",
   "language": "python",
   "name": "python3"
  },
  "language_info": {
   "codemirror_mode": {
    "name": "ipython",
    "version": 3
   },
   "file_extension": ".py",
   "mimetype": "text/x-python",
   "name": "python",
   "nbconvert_exporter": "python",
   "pygments_lexer": "ipython3",
   "version": "3.6.8"
  }
 },
 "nbformat": 4,
 "nbformat_minor": 2
}
