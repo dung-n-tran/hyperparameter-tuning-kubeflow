{
 "cells": [
  {
   "cell_type": "markdown",
   "metadata": {
    "pycharm": {
     "metadata": false,
     "name": "#%% md\n"
    }
   },
   "source": [
    "# Katip: Hyperparameter Tuning on Kubernetes\n",
    "\n",
    "Currently, Katip support following optimization algorithms:\n",
    "\n",
    "* Random\n",
    "* Grid\n",
    "* Hyperband\n",
    "* Bayesian optimization\n",
    "\n",
    "\n",
    "### Table of Contents\n",
    "0. Prerequisite\n",
    "1. Preparation\n",
    "2. StudyJob\n",
    "3. Results\n",
    "4. Cleanup"
   ]
  },
  {
   "cell_type": "markdown",
   "metadata": {
    "pycharm": {
     "metadata": false
    }
   },
   "source": [
    "## 0. Prerequisite\n",
    "* Docker (if you create your own docker image) - To install, see [docker site](https://docs.docker.com/install/).\n",
    "* Kubernetes, kubectl, and Kubeflow - See [setup](./setup.ipynb).\n",
    "\n",
    "Check Kubernetes cluster by using `kubectl`:"
   ]
  },
  {
   "cell_type": "code",
   "execution_count": null,
   "metadata": {
    "pycharm": {}
   },
   "outputs": [],
   "source": [
    "!kubectl get nodes"
   ]
  },
  {
   "cell_type": "markdown",
   "metadata": {
    "pycharm": {
     "metadata": false
    }
   },
   "source": [
    "## 1. Preparation\n",
    "\n",
    "#### Training script\n",
    "First, prepare a training python script we will use for hyperparameter tuning:\n",
    "\n",
    "[tf_mnist.py](./src/tf_mnist.py)"
   ]
  },
  {
   "cell_type": "markdown",
   "metadata": {
    "pycharm": {
     "metadata": false,
     "name": "#%% md\n"
    }
   },
   "source": [
    "#### Docker image\n",
    "Prepare a docker image we will use for training MNIST model. \n",
    "\n",
    "To build a new docker image,\n",
    "* Prepare Dockerfile containing:\n",
    "    ```\n",
    "    FROM tensorflow/tensorflow:1.12.0-gpu-py3\n",
    "    ENV PYTHONPATH /app\n",
    "    COPY ./src /app/src/\n",
    "    ```\n",
    "* Build a docker image:\n",
    "    ```\n",
    "    sudo docker build -t <DOCKER-USERNAME>/mlads2019-tf-mnist:gpu -f <DOCKER-FILENAME> .\n",
    "    sudo docker push <DOCKER-USERNAME>/mlads2019-tf-mnist:gpu\n",
    "    ```"
   ]
  },
  {
   "cell_type": "markdown",
   "metadata": {
    "pycharm": {
     "metadata": false,
     "name": "#%% md\n"
    }
   },
   "source": [
    "#### Worker template\n",
    "Our StudyJobs will create workers by using a worker template. Create ConfigMap object with `gpuWorkerConfigMap.yaml` which contains `gpuWorkerTemplate.yaml`.\n",
    "\n",
    "`gpuWorkerTemplate` looks like:\n",
    "```\n",
    "image: <DOCKER-USERNAME>/mlads2019-tf-mnist:gpu\n",
    "command:\n",
    "    - \"python\"\n",
    "    - \"/app/kube_mnist.py\"\n",
    "    {{- with .HyperParameters}}\n",
    "    ...\n",
    "    resources:\n",
    "      limits:\n",
    "        nvidia.com/gpu: 1\n",
    "```\n",
    "\n",
    "To deploy the template, run:\n",
    "\n",
    "`kubectl apply -f ./kubeflow/workerConfigMap.yaml`\n",
    "\n",
    "To delete existing template, run:\n",
    "\n",
    "`kubectl delete configmap worker-template`"
   ]
  },
  {
   "cell_type": "markdown",
   "metadata": {
    "pycharm": {
     "metadata": false,
     "name": "#%% md\n"
    }
   },
   "source": [
    "## 2. StudyJob\n",
    "\n",
    "First, set study job name"
   ]
  },
  {
   "cell_type": "code",
   "execution_count": null,
   "metadata": {
    "pycharm": {
     "metadata": false,
     "name": "#%%\n"
    }
   },
   "outputs": [],
   "source": [
    "STUDYNAME = None  # Set unique name here"
   ]
  },
  {
   "cell_type": "markdown",
   "metadata": {
    "pycharm": {}
   },
   "source": [
    "We use StudyJob yaml files to create hyperparameter tuning job.\n",
    "We implemented helper functions to generate StudyJob yaml files as well as query results."
   ]
  },
  {
   "cell_type": "code",
   "execution_count": null,
   "metadata": {
    "pycharm": {}
   },
   "outputs": [],
   "source": [
    "%load_ext autoreload\n",
    "%autoreload 2\n",
    "\n",
    "from src.kubeflow.utils import (\n",
    "    generate_hyperparameter_tuning_yaml,\n",
    "    generate_model_testing_yaml,\n",
    "    get_study_metrics,\n",
    "    get_study_result,\n",
    "    get_best_model_id,\n",
    ")"
   ]
  },
  {
   "cell_type": "markdown",
   "metadata": {
    "pycharm": {}
   },
   "source": [
    "### 2.1 Random sampling hyperparameter search"
   ]
  },
  {
   "cell_type": "code",
   "execution_count": null,
   "metadata": {
    "pycharm": {}
   },
   "outputs": [],
   "source": [
    "# Here, we run 2 trials at a time\n",
    "RANDOM_STUDYNAME, RANDOM_STUDYJOB = generate_hyperparameter_tuning_yaml(STUDYNAME, 'random', 2)"
   ]
  },
  {
   "cell_type": "code",
   "execution_count": null,
   "metadata": {
    "pycharm": {}
   },
   "outputs": [],
   "source": [
    "# Delete existing StudyJob\n",
    "!kubectl delete studyjob {RANDOM_STUDYNAME}\n",
    "\n",
    "# Create StudyJob\n",
    "!kubectl create -f {RANDOM_STUDYJOB}"
   ]
  },
  {
   "cell_type": "markdown",
   "metadata": {},
   "source": [
    "Check our StudyJob"
   ]
  },
  {
   "cell_type": "code",
   "execution_count": null,
   "metadata": {
    "pycharm": {},
    "scrolled": true
   },
   "outputs": [],
   "source": [
    "!kubectl describe studyjob {RANDOM_STUDYNAME}"
   ]
  },
  {
   "cell_type": "markdown",
   "metadata": {
    "pycharm": {},
    "scrolled": true
   },
   "source": [
    "To see list of StudyJobs, run:\n",
    "\n",
    "`!kubectl get studyjob`\n",
    "\n",
    "To check the status of each tfjob and pod in the StudyJob, run:\n",
    "\n",
    "`!kubectl describe tfjob <tfjob-id>`\n",
    "\n",
    "`!kubectl logs <pod-id>`"
   ]
  },
  {
   "cell_type": "markdown",
   "metadata": {
    "pycharm": {}
   },
   "source": [
    "### 2.2 Bayesian sampling hyperparameter search"
   ]
  },
  {
   "cell_type": "code",
   "execution_count": null,
   "metadata": {
    "pycharm": {}
   },
   "outputs": [],
   "source": [
    "# Here, we run 2 trials at a time\n",
    "BAYESIAN_STUDYNAME, BAYESIAN_STUDYJOB = generate_hyperparameter_tuning_yaml(STUDYNAME, 'bayesian', 2)"
   ]
  },
  {
   "cell_type": "code",
   "execution_count": null,
   "metadata": {
    "pycharm": {}
   },
   "outputs": [],
   "source": [
    "# To delete existing studyjob, run:\n",
    "!kubectl delete studyjob {BAYESIAN_STUDYNAME}\n",
    "\n",
    "# Create StudyJob\n",
    "!kubectl create -f {BAYESIAN_STUDYJOB}"
   ]
  },
  {
   "cell_type": "code",
   "execution_count": null,
   "metadata": {
    "pycharm": {}
   },
   "outputs": [],
   "source": [
    "!kubectl describe studyjob {BAYESIAN_STUDYNAME}"
   ]
  },
  {
   "cell_type": "markdown",
   "metadata": {
    "pycharm": {}
   },
   "source": [
    "## 3. Results\n",
    "\n",
    "If you are using your local machine for `kubectl`, you can port-forward and browse Katib Dashboard by running\n",
    "\n",
    "`kubectl port-forward svc/katib-ui 8080:80` and open `localhost:8080`"
   ]
  },
  {
   "cell_type": "markdown",
   "metadata": {
    "pycharm": {}
   },
   "source": [
    "Studyjob view | Trial view\n",
    "---|---\n",
    "<img src=\"media/katib_01.jpg\"/> | <img src=\"media/katib_02.jpg\"/>"
   ]
  },
  {
   "cell_type": "code",
   "execution_count": null,
   "metadata": {
    "pycharm": {
     "metadata": false,
     "name": "#%%\n"
    }
   },
   "outputs": [],
   "source": [
    "study_result = get_study_result(\n",
    "    RANDOM_STUDYNAME,\n",
    "    result_dir=\"results\",\n",
    "    verbose=False,\n",
    ")"
   ]
  },
  {
   "cell_type": "markdown",
   "metadata": {
    "pycharm": {}
   },
   "source": [
    "Katib stores the results in `vizier-db`. You can access it by using REST API via `6790` port:\n",
    "```\n",
    "kubectl port-forward svc/vizier-core-rest 6790:80\n",
    "```\n",
    "\n",
    "Here, we use our helper functions instead."
   ]
  },
  {
   "cell_type": "code",
   "execution_count": null,
   "metadata": {
    "pycharm": {}
   },
   "outputs": [],
   "source": [
    "# Get the best model id\n",
    "model_id = get_best_model_id(study_result)\n",
    "model_id"
   ]
  },
  {
   "cell_type": "markdown",
   "metadata": {
    "pycharm": {}
   },
   "source": [
    "We use TFJOB to test our model. The job will load the saved model as well as test dataset and predict the samples."
   ]
  },
  {
   "cell_type": "code",
   "execution_count": null,
   "metadata": {
    "pycharm": {}
   },
   "outputs": [],
   "source": [
    "TEST_NAME, TEST_TFJOB = generate_model_testing_yaml(\n",
    "    RANDOM_STUDYNAME,\n",
    "    study_id=study_result['Status']['Studyid'],\n",
    "    model_id=model_id\n",
    ")"
   ]
  },
  {
   "cell_type": "code",
   "execution_count": null,
   "metadata": {
    "pycharm": {}
   },
   "outputs": [],
   "source": [
    "# To delete existing tfjob, run:\n",
    "!kubectl delete tfjob {TEST_NAME}\n",
    "\n",
    "# Create model testing TFJob\n",
    "!kubectl create -f {TEST_TFJOB}"
   ]
  },
  {
   "cell_type": "markdown",
   "metadata": {},
   "source": [
    "To check our TFJob,"
   ]
  },
  {
   "cell_type": "code",
   "execution_count": null,
   "metadata": {
    "pycharm": {}
   },
   "outputs": [],
   "source": [
    "!kubectl describe tfjob {TEST_NAME}"
   ]
  },
  {
   "cell_type": "code",
   "execution_count": null,
   "metadata": {},
   "outputs": [],
   "source": [
    "!kubectl logs <Your-pod-name>"
   ]
  },
  {
   "cell_type": "markdown",
   "metadata": {},
   "source": [
    "To see the list of TFJobs, run:\n",
    "\n",
    "`!kubectl get tfjob`"
   ]
  },
  {
   "cell_type": "markdown",
   "metadata": {
    "pycharm": {
     "metadata": false,
     "name": "#%% md\n"
    }
   },
   "source": [
    "------\n",
    "## Further readings\n",
    "\n",
    "* [Katib example](https://github.com/kubeflow/katib/tree/master/examples/v1alpha1)\n",
    "\n"
   ]
  }
 ],
 "metadata": {
  "kernelspec": {
   "display_name": "Python 3",
   "language": "python",
   "name": "python3"
  },
  "language_info": {
   "codemirror_mode": {
    "name": "ipython",
    "version": 3
   },
   "file_extension": ".py",
   "mimetype": "text/x-python",
   "name": "python",
   "nbconvert_exporter": "python",
   "pygments_lexer": "ipython3",
   "version": "3.6.8"
  },
  "stem_cell": {
   "cell_type": "raw",
   "metadata": {
    "pycharm": {
     "metadata": false
    }
   },
   "source": ""
  }
 },
 "nbformat": 4,
 "nbformat_minor": 1
}
